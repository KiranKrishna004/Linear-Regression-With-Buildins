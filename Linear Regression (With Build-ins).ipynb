{
 "cells": [
  {
   "cell_type": "code",
   "execution_count": 1,
   "id": "bb5fea9f",
   "metadata": {},
   "outputs": [],
   "source": [
    "import torch \n",
    "import numpy as np\n",
    "import torch.nn as nn\n",
    "from torch.utils.data import TensorDataset\n",
    "from torch.utils.data import DataLoader\n",
    "import torch.nn.functional as F"
   ]
  },
  {
   "cell_type": "code",
   "execution_count": 2,
   "id": "4b565c94",
   "metadata": {},
   "outputs": [],
   "source": [
    "# Input (temp, rainfall, humidity)\n",
    "inputs = np.array([[73, 67, 43], \n",
    "                   [91, 88, 64], \n",
    "                   [87, 134, 58], \n",
    "                   [102, 43, 37], \n",
    "                   [69, 96, 70], \n",
    "                   [74, 66, 43], \n",
    "                   [91, 87, 65], \n",
    "                   [88, 134, 59], \n",
    "                   [101, 44, 37], \n",
    "                   [68, 96, 71], \n",
    "                   [73, 66, 44], \n",
    "                   [92, 87, 64], \n",
    "                   [87, 135, 57], \n",
    "                   [103, 43, 36], \n",
    "                   [68, 97, 70]], \n",
    "                  dtype='float32')\n",
    "\n",
    "# Targets (apples, oranges)\n",
    "targets = np.array([[56, 70], \n",
    "                    [81, 101], \n",
    "                    [119, 133], \n",
    "                    [22, 37], \n",
    "                    [103, 119],\n",
    "                    [57, 69], \n",
    "                    [80, 102], \n",
    "                    [118, 132], \n",
    "                    [21, 38], \n",
    "                    [104, 118], \n",
    "                    [57, 69], \n",
    "                    [82, 100], \n",
    "                    [118, 134], \n",
    "                    [20, 38], \n",
    "                    [102, 120]], \n",
    "                   dtype='float32')\n",
    "\n",
    "inputs = torch.from_numpy(inputs)\n",
    "targets = torch.from_numpy(targets)"
   ]
  },
  {
   "cell_type": "code",
   "execution_count": 3,
   "id": "afb25ff8",
   "metadata": {},
   "outputs": [
    {
     "data": {
      "text/plain": [
       "(tensor([[ 73.,  67.,  43.],\n",
       "         [ 91.,  88.,  64.],\n",
       "         [ 87., 134.,  58.]]),\n",
       " tensor([[ 56.,  70.],\n",
       "         [ 81., 101.],\n",
       "         [119., 133.]]))"
      ]
     },
     "execution_count": 3,
     "metadata": {},
     "output_type": "execute_result"
    },
    {
     "data": {
      "text/plain": [
       "(tensor([[ 73.,  67.,  43.],\n",
       "         [ 91.,  88.,  64.],\n",
       "         [ 87., 134.,  58.]]),\n",
       " tensor([[ 56.,  70.],\n",
       "         [ 81., 101.],\n",
       "         [119., 133.]]))"
      ]
     },
     "execution_count": 3,
     "metadata": {},
     "output_type": "execute_result"
    }
   ],
   "source": [
    "#Define Dataset\n",
    "train_ds=TensorDataset(inputs,targets)\n",
    "train_ds[0:3]"
   ]
  },
  {
   "cell_type": "code",
   "execution_count": 4,
   "id": "d02c2f65",
   "metadata": {},
   "outputs": [],
   "source": [
    "#Define DataLoader\n",
    "batch_size=5\n",
    "train_dl=DataLoader(train_ds,batch_size,shuffle=True)"
   ]
  },
  {
   "cell_type": "code",
   "execution_count": 5,
   "id": "fa828403",
   "metadata": {},
   "outputs": [
    {
     "name": "stdout",
     "output_type": "stream",
     "text": [
      "tensor([[ 68.,  96.,  71.],\n",
      "        [ 87., 134.,  58.],\n",
      "        [ 87., 135.,  57.],\n",
      "        [ 68.,  97.,  70.],\n",
      "        [ 91.,  88.,  64.]])\n",
      "tensor([[104., 118.],\n",
      "        [119., 133.],\n",
      "        [118., 134.],\n",
      "        [102., 120.],\n",
      "        [ 81., 101.]])\n",
      "tensor([[ 69.,  96.,  70.],\n",
      "        [101.,  44.,  37.],\n",
      "        [ 88., 134.,  59.],\n",
      "        [ 73.,  66.,  44.],\n",
      "        [ 91.,  87.,  65.]])\n",
      "tensor([[103., 119.],\n",
      "        [ 21.,  38.],\n",
      "        [118., 132.],\n",
      "        [ 57.,  69.],\n",
      "        [ 80., 102.]])\n",
      "tensor([[ 74.,  66.,  43.],\n",
      "        [102.,  43.,  37.],\n",
      "        [ 73.,  67.,  43.],\n",
      "        [ 92.,  87.,  64.],\n",
      "        [103.,  43.,  36.]])\n",
      "tensor([[ 57.,  69.],\n",
      "        [ 22.,  37.],\n",
      "        [ 56.,  70.],\n",
      "        [ 82., 100.],\n",
      "        [ 20.,  38.]])\n",
      "tensor([[ 68.,  96.,  71.],\n",
      "        [ 87., 134.,  58.],\n",
      "        [ 87., 135.,  57.],\n",
      "        [ 68.,  97.,  70.],\n",
      "        [ 91.,  88.,  64.]])\n",
      "tensor([[104., 118.],\n",
      "        [119., 133.],\n",
      "        [118., 134.],\n",
      "        [102., 120.],\n",
      "        [ 81., 101.]])\n",
      "tensor([[ 69.,  96.,  70.],\n",
      "        [101.,  44.,  37.],\n",
      "        [ 88., 134.,  59.],\n",
      "        [ 73.,  66.,  44.],\n",
      "        [ 91.,  87.,  65.]])\n",
      "tensor([[103., 119.],\n",
      "        [ 21.,  38.],\n",
      "        [118., 132.],\n",
      "        [ 57.,  69.],\n",
      "        [ 80., 102.]])\n",
      "tensor([[ 74.,  66.,  43.],\n",
      "        [102.,  43.,  37.],\n",
      "        [ 73.,  67.,  43.],\n",
      "        [ 92.,  87.,  64.],\n",
      "        [103.,  43.,  36.]])\n",
      "tensor([[ 57.,  69.],\n",
      "        [ 22.,  37.],\n",
      "        [ 56.,  70.],\n",
      "        [ 82., 100.],\n",
      "        [ 20.,  38.]])\n"
     ]
    }
   ],
   "source": [
    "for xb,yb in train_dl:\n",
    "    print(xb)\n",
    "    print(yb)"
   ]
  },
  {
   "cell_type": "code",
   "execution_count": 6,
   "id": "aedaf705",
   "metadata": {},
   "outputs": [
    {
     "name": "stdout",
     "output_type": "stream",
     "text": [
      "Parameter containing:\n",
      "tensor([[-0.0040,  0.3481, -0.2721],\n",
      "        [ 0.2369, -0.2125, -0.4454]], requires_grad=True)\n",
      "Parameter containing:\n",
      "tensor([0.1261, 0.3166], requires_grad=True)\n",
      "Parameter containing:\n",
      "tensor([[-0.0040,  0.3481, -0.2721],\n",
      "        [ 0.2369, -0.2125, -0.4454]], requires_grad=True)\n",
      "Parameter containing:\n",
      "tensor([0.1261, 0.3166], requires_grad=True)\n"
     ]
    }
   ],
   "source": [
    "#Define the Model\n",
    "model=nn.Linear(3,2)\n",
    "print(model.weight)\n",
    "print(model.bias)"
   ]
  },
  {
   "cell_type": "code",
   "execution_count": 7,
   "id": "12521134",
   "metadata": {},
   "outputs": [
    {
     "data": {
      "text/plain": [
       "[Parameter containing:\n",
       " tensor([[-0.0040,  0.3481, -0.2721],\n",
       "         [ 0.2369, -0.2125, -0.4454]], requires_grad=True),\n",
       " Parameter containing:\n",
       " tensor([0.1261, 0.3166], requires_grad=True)]"
      ]
     },
     "execution_count": 7,
     "metadata": {},
     "output_type": "execute_result"
    },
    {
     "data": {
      "text/plain": [
       "[Parameter containing:\n",
       " tensor([[-0.0040,  0.3481, -0.2721],\n",
       "         [ 0.2369, -0.2125, -0.4454]], requires_grad=True),\n",
       " Parameter containing:\n",
       " tensor([0.1261, 0.3166], requires_grad=True)]"
      ]
     },
     "execution_count": 7,
     "metadata": {},
     "output_type": "execute_result"
    }
   ],
   "source": [
    "# Parameters\n",
    "list(model.parameters())"
   ]
  },
  {
   "cell_type": "code",
   "execution_count": 8,
   "id": "407522a7",
   "metadata": {},
   "outputs": [
    {
     "data": {
      "text/plain": [
       "tensor([[ 11.4532, -15.7814],\n",
       "        [ 12.9763, -25.3338],\n",
       "        [ 30.6385, -33.3820],\n",
       "        [  4.6138,  -1.1408],\n",
       "        [ 14.2176, -34.9170],\n",
       "        [ 11.1011, -15.3321],\n",
       "        [ 12.3561, -25.5667],\n",
       "        [ 30.3623, -33.5905],\n",
       "        [  4.9659,  -1.5901],\n",
       "        [ 13.9495, -35.5992],\n",
       "        [ 10.8330, -16.0144],\n",
       "        [ 12.6242, -24.8845],\n",
       "        [ 31.2587, -33.1490],\n",
       "        [  4.8819,  -0.4585],\n",
       "        [ 14.5698, -35.3663]], grad_fn=<AddmmBackward0>)"
      ]
     },
     "execution_count": 8,
     "metadata": {},
     "output_type": "execute_result"
    },
    {
     "data": {
      "text/plain": [
       "tensor([[ 11.4532, -15.7814],\n",
       "        [ 12.9763, -25.3338],\n",
       "        [ 30.6385, -33.3820],\n",
       "        [  4.6138,  -1.1408],\n",
       "        [ 14.2176, -34.9170],\n",
       "        [ 11.1011, -15.3321],\n",
       "        [ 12.3561, -25.5667],\n",
       "        [ 30.3623, -33.5905],\n",
       "        [  4.9659,  -1.5901],\n",
       "        [ 13.9495, -35.5992],\n",
       "        [ 10.8330, -16.0144],\n",
       "        [ 12.6242, -24.8845],\n",
       "        [ 31.2587, -33.1490],\n",
       "        [  4.8819,  -0.4585],\n",
       "        [ 14.5698, -35.3663]], grad_fn=<AddmmBackward0>)"
      ]
     },
     "execution_count": 8,
     "metadata": {},
     "output_type": "execute_result"
    }
   ],
   "source": [
    "#Generate Predictions\n",
    "pre=model(inputs)\n",
    "pre"
   ]
  },
  {
   "cell_type": "code",
   "execution_count": 9,
   "id": "a2868b7e",
   "metadata": {},
   "outputs": [
    {
     "name": "stdout",
     "output_type": "stream",
     "text": [
      "tensor(9872.2119, grad_fn=<MseLossBackward0>)\n",
      "tensor(9872.2119, grad_fn=<MseLossBackward0>)\n"
     ]
    }
   ],
   "source": [
    "#Define the Loss function\n",
    "loss_fn=F.mse_loss\n",
    "loss=loss_fn(model(inputs),targets)\n",
    "print(loss)"
   ]
  },
  {
   "cell_type": "code",
   "execution_count": 10,
   "id": "a08c29ba",
   "metadata": {},
   "outputs": [],
   "source": [
    "# Define optimizer\n",
    "opt = torch.optim.SGD(model.parameters(), lr=1e-5)"
   ]
  },
  {
   "cell_type": "code",
   "execution_count": 11,
   "id": "7180d26d",
   "metadata": {},
   "outputs": [],
   "source": [
    "# Utility function to train the model\n",
    "def fit(num_epochs, model, loss_fn, opt, train_dl):\n",
    "    \n",
    "    # Repeat for given number of epochs\n",
    "    for epoch in range(num_epochs):\n",
    "        \n",
    "        # Train with batches of data\n",
    "        for xb,yb in train_dl:\n",
    "            \n",
    "            # 1. Generate predictions\n",
    "            pred = model(xb)\n",
    "            \n",
    "            # 2. Calculate loss\n",
    "            loss = loss_fn(pred, yb)\n",
    "            \n",
    "            # 3. Compute gradients\n",
    "            loss.backward()\n",
    "            \n",
    "            # 4. Update parameters using gradients\n",
    "            opt.step()\n",
    "            \n",
    "            # 5. Reset the gradients to zero\n",
    "            opt.zero_grad()\n",
    "        \n",
    "        # Print the progress\n",
    "        if (epoch+1) % 10 == 0:\n",
    "            print('Epoch [{}/{}], Loss: {:.4f}'.format(epoch+1, num_epochs, loss.item()))"
   ]
  },
  {
   "cell_type": "code",
   "execution_count": 12,
   "id": "11cc4eb0",
   "metadata": {},
   "outputs": [
    {
     "name": "stdout",
     "output_type": "stream",
     "text": [
      "Epoch [10/100], Loss: 362.7610\n",
      "Epoch [20/100], Loss: 526.3466\n",
      "Epoch [30/100], Loss: 184.3727\n",
      "Epoch [40/100], Loss: 184.0833\n",
      "Epoch [50/100], Loss: 68.5057\n",
      "Epoch [60/100], Loss: 173.5428\n",
      "Epoch [70/100], Loss: 132.9616\n",
      "Epoch [80/100], Loss: 76.6160\n",
      "Epoch [90/100], Loss: 64.7966\n",
      "Epoch [100/100], Loss: 31.3668\n",
      "Epoch [10/100], Loss: 362.7610\n",
      "Epoch [20/100], Loss: 526.3466\n",
      "Epoch [30/100], Loss: 184.3727\n",
      "Epoch [40/100], Loss: 184.0833\n",
      "Epoch [50/100], Loss: 68.5057\n",
      "Epoch [60/100], Loss: 173.5428\n",
      "Epoch [70/100], Loss: 132.9616\n",
      "Epoch [80/100], Loss: 76.6160\n",
      "Epoch [90/100], Loss: 64.7966\n",
      "Epoch [100/100], Loss: 31.3668\n"
     ]
    }
   ],
   "source": [
    "fit(100, model, loss_fn, opt, train_dl)"
   ]
  },
  {
   "cell_type": "code",
   "execution_count": 13,
   "id": "57d13693",
   "metadata": {},
   "outputs": [
    {
     "data": {
      "text/plain": [
       "tensor([[ 58.2538,  72.3632],\n",
       "        [ 78.6864,  96.7348],\n",
       "        [123.9476, 138.6564],\n",
       "        [ 27.6523,  48.0693],\n",
       "        [ 92.0591, 105.9002],\n",
       "        [ 57.0618,  71.4110],\n",
       "        [ 77.8607,  96.0248],\n",
       "        [123.9041, 138.8749],\n",
       "        [ 28.8443,  49.0215],\n",
       "        [ 92.4253, 106.1424],\n",
       "        [ 57.4280,  71.6532],\n",
       "        [ 77.4944,  95.7826],\n",
       "        [124.7734, 139.3664],\n",
       "        [ 27.2861,  47.8271],\n",
       "        [ 93.2511, 106.8524]], grad_fn=<AddmmBackward0>)"
      ]
     },
     "execution_count": 13,
     "metadata": {},
     "output_type": "execute_result"
    },
    {
     "data": {
      "text/plain": [
       "tensor([[ 58.2538,  72.3632],\n",
       "        [ 78.6864,  96.7348],\n",
       "        [123.9476, 138.6564],\n",
       "        [ 27.6523,  48.0693],\n",
       "        [ 92.0591, 105.9002],\n",
       "        [ 57.0618,  71.4110],\n",
       "        [ 77.8607,  96.0248],\n",
       "        [123.9041, 138.8749],\n",
       "        [ 28.8443,  49.0215],\n",
       "        [ 92.4253, 106.1424],\n",
       "        [ 57.4280,  71.6532],\n",
       "        [ 77.4944,  95.7826],\n",
       "        [124.7734, 139.3664],\n",
       "        [ 27.2861,  47.8271],\n",
       "        [ 93.2511, 106.8524]], grad_fn=<AddmmBackward0>)"
      ]
     },
     "execution_count": 13,
     "metadata": {},
     "output_type": "execute_result"
    }
   ],
   "source": [
    "#Generate Predictions\n",
    "pre=model(inputs)\n",
    "pre"
   ]
  },
  {
   "cell_type": "code",
   "execution_count": 14,
   "id": "eac96049",
   "metadata": {},
   "outputs": [
    {
     "data": {
      "text/plain": [
       "tensor([[ 56.,  70.],\n",
       "        [ 81., 101.],\n",
       "        [119., 133.],\n",
       "        [ 22.,  37.],\n",
       "        [103., 119.],\n",
       "        [ 57.,  69.],\n",
       "        [ 80., 102.],\n",
       "        [118., 132.],\n",
       "        [ 21.,  38.],\n",
       "        [104., 118.],\n",
       "        [ 57.,  69.],\n",
       "        [ 82., 100.],\n",
       "        [118., 134.],\n",
       "        [ 20.,  38.],\n",
       "        [102., 120.]])"
      ]
     },
     "execution_count": 14,
     "metadata": {},
     "output_type": "execute_result"
    },
    {
     "data": {
      "text/plain": [
       "tensor([[ 56.,  70.],\n",
       "        [ 81., 101.],\n",
       "        [119., 133.],\n",
       "        [ 22.,  37.],\n",
       "        [103., 119.],\n",
       "        [ 57.,  69.],\n",
       "        [ 80., 102.],\n",
       "        [118., 132.],\n",
       "        [ 21.,  38.],\n",
       "        [104., 118.],\n",
       "        [ 57.,  69.],\n",
       "        [ 82., 100.],\n",
       "        [118., 134.],\n",
       "        [ 20.,  38.],\n",
       "        [102., 120.]])"
      ]
     },
     "execution_count": 14,
     "metadata": {},
     "output_type": "execute_result"
    }
   ],
   "source": [
    "#Compare with Targets\n",
    "targets"
   ]
  },
  {
   "cell_type": "code",
   "execution_count": null,
   "id": "7a2ba9bd",
   "metadata": {},
   "outputs": [],
   "source": []
  }
 ],
 "metadata": {
  "kernelspec": {
   "display_name": "Python 3",
   "language": "python",
   "name": "python3"
  },
  "language_info": {
   "codemirror_mode": {
    "name": "ipython",
    "version": 3
   },
   "file_extension": ".py",
   "mimetype": "text/x-python",
   "name": "python",
   "nbconvert_exporter": "python",
   "pygments_lexer": "ipython3",
   "version": "3.8.8"
  }
 },
 "nbformat": 4,
 "nbformat_minor": 5
}
